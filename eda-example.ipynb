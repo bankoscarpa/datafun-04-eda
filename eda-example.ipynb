{
 "cells": [
  {
   "cell_type": "markdown",
   "id": "da2db5a5",
   "metadata": {},
   "source": [
    "Title: "
   ]
  },
  {
   "cell_type": "markdown",
   "id": "787ecbe8",
   "metadata": {},
   "source": [
    "Author: Frank Scarpa\n",
    "Purpose: Learning more about EDA projects\n",
    "Date: September 14, 2025\n"
   ]
  },
  {
   "cell_type": "code",
   "execution_count": null,
   "id": "cd799327",
   "metadata": {},
   "outputs": [],
   "source": [
    "#Imports\n",
    "import pandas as pd\n",
    "import seaborn as sns\n",
    "import matplotlib \n",
    "\n",
    "# Axes object (basic plot type returned by Seaborn)\n",
    "from matplotlib.axes import Axes"
   ]
  },
  {
   "cell_type": "code",
   "execution_count": null,
   "id": "1e2543d4",
   "metadata": {},
   "outputs": [],
   "source": [
    "# Load the Iris dataset into pandas DataFrame\n",
    "iris_df: pd.DataFrame = sns.load_dataset('iris')\n",
    "\n",
    "# List column names\n",
    "iris_df.columns\n",
    "\n",
    "# Inspect first few rows of the DataFrame\n",
    "iris_df.head()\n"
   ]
  }
 ],
 "metadata": {
  "language_info": {
   "name": "python"
  }
 },
 "nbformat": 4,
 "nbformat_minor": 5
}
