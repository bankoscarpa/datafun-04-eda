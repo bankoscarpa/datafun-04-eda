{
 "cells": [
  {
   "cell_type": "markdown",
   "id": "528b46b4",
   "metadata": {},
   "source": [
    "# Frank Scarpa: Exploratory Data Analysis Project\n"
   ]
  },
  {
   "cell_type": "code",
   "execution_count": null,
   "id": "35418816",
   "metadata": {},
   "outputs": [
    {
     "name": "stdout",
     "output_type": "stream",
     "text": [
      "Starting out with Jupyter.\n"
     ]
    }
   ],
   "source": [
    "import matplotlib.pyplot as plt\n",
    "import pandas as pd\n",
    "print(\"Starting out with Jupyter.\")"
   ]
  },
  {
   "cell_type": "markdown",
   "id": "d24cc721",
   "metadata": {},
   "source": [
    "Examples I am going to try and make\n",
    "- Something with math\n",
    "- Something with words   "
   ]
  },
  {
   "cell_type": "markdown",
   "id": "0ef2420a",
   "metadata": {},
   "source": [
    "Something with Math"
   ]
  },
  {
   "cell_type": "code",
   "execution_count": null,
   "id": "739669ef",
   "metadata": {},
   "outputs": [],
   "source": [
    "x = [1, 2, 3, 4, 5]\n",
    "y = [n**2 for n in x]\n",
    "\n",
    "plt.plot(x, y, marker=\"o\")\n",
    "plt.title(\"Squares of Numbers\")\n",
    "plt.xlabel(\"Number\")\n",
    "plt.ylabel(\"Square\")\n",
    "plt.show()\n"
   ]
  },
  {
   "cell_type": "markdown",
   "id": "da1974cc",
   "metadata": {},
   "source": [
    "Something with Words"
   ]
  },
  {
   "cell_type": "code",
   "execution_count": null,
   "id": "07a71d6a",
   "metadata": {},
   "outputs": [
    {
     "name": "stdout",
     "output_type": "stream",
     "text": [
      "retypuJ gninrael ma I\n"
     ]
    }
   ],
   "source": [
    "# Something with words\n",
    "sentence = \"I am learning Jupyter\"\n",
    "print(sentence[::-1])\n"
   ]
  }
 ],
 "metadata": {
  "kernelspec": {
   "display_name": ".venv",
   "language": "python",
   "name": "python3"
  },
  "language_info": {
   "codemirror_mode": {
    "name": "ipython",
    "version": 3
   },
   "file_extension": ".py",
   "mimetype": "text/x-python",
   "name": "python",
   "nbconvert_exporter": "python",
   "pygments_lexer": "ipython3",
   "version": "3.13.7"
  }
 },
 "nbformat": 4,
 "nbformat_minor": 5
}
